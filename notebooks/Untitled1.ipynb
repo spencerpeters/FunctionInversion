{
 "cells": [
  {
   "cell_type": "code",
   "execution_count": 47,
   "id": "retained-secondary",
   "metadata": {},
   "outputs": [],
   "source": [
    "import numpy as np\n",
    "import matplotlib.pyplot as plt\n",
    "import plotly\n",
    "import plotly.graph_objects as go\n",
    "import networkx as nx"
   ]
  },
  {
   "cell_type": "code",
   "execution_count": 48,
   "id": "defined-lawrence",
   "metadata": {},
   "outputs": [],
   "source": [
    "N = 10000"
   ]
  },
  {
   "cell_type": "code",
   "execution_count": 49,
   "id": "hearing-habitat",
   "metadata": {},
   "outputs": [],
   "source": [
    "np.random.seed(0)\n",
    "f = np.random.randint(0, N, size = N)"
   ]
  },
  {
   "cell_type": "code",
   "execution_count": 50,
   "id": "valued-genre",
   "metadata": {},
   "outputs": [],
   "source": [
    "def image_size(f):\n",
    "    return len(set(f))"
   ]
  },
  {
   "cell_type": "code",
   "execution_count": 51,
   "id": "concerned-geography",
   "metadata": {},
   "outputs": [
    {
     "data": {
      "text/plain": [
       "6334"
      ]
     },
     "execution_count": 51,
     "metadata": {},
     "output_type": "execute_result"
    }
   ],
   "source": [
    "image_size(f)"
   ]
  },
  {
   "cell_type": "code",
   "execution_count": 52,
   "id": "fluid-outline",
   "metadata": {},
   "outputs": [],
   "source": [
    "def compose(f, g):\n",
    "    n = len(f)\n",
    "    result = np.zeros(n, dtype='int64')\n",
    "    for i in range(n):\n",
    "        result[i] = f[g[i]]\n",
    "    return result"
   ]
  },
  {
   "cell_type": "code",
   "execution_count": 53,
   "id": "dynamic-parking",
   "metadata": {},
   "outputs": [],
   "source": [
    "f2 = compose(f, f)"
   ]
  },
  {
   "cell_type": "code",
   "execution_count": 54,
   "id": "identical-accused",
   "metadata": {},
   "outputs": [
    {
     "data": {
      "text/plain": [
       "4720"
      ]
     },
     "execution_count": 54,
     "metadata": {},
     "output_type": "execute_result"
    }
   ],
   "source": [
    "image_size(f2)"
   ]
  },
  {
   "cell_type": "code",
   "execution_count": 55,
   "id": "charged-chess",
   "metadata": {},
   "outputs": [],
   "source": [
    "image_sizes = []\n",
    "iterates = []\n",
    "current_f = f\n",
    "for i in range(1000):\n",
    "    iterates.append(current_f)\n",
    "    image_sizes.append(image_size(current_f))\n",
    "    current_f = compose(f, current_f)"
   ]
  },
  {
   "cell_type": "code",
   "execution_count": 56,
   "id": "rolled-asbestos",
   "metadata": {},
   "outputs": [
    {
     "data": {
      "text/plain": [
       "[<matplotlib.lines.Line2D at 0x7ff1b20280b8>]"
      ]
     },
     "execution_count": 56,
     "metadata": {},
     "output_type": "execute_result"
    },
    {
     "data": {
      "image/png": "[encoded data removed]",
      "text/plain": [
       "<Figure size 432x288 with 1 Axes>"
      ]
     },
     "metadata": {
      "needs_background": "light"
     },
     "output_type": "display_data"
    }
   ],
   "source": [
    "plt.plot(image_sizes)"
   ]
  },
  {
   "cell_type": "code",
   "execution_count": 41,
   "id": "improving-island",
   "metadata": {},
   "outputs": [
    {
     "name": "stdout",
     "output_type": "stream",
     "text": [
      "284\n",
      "100.0\n"
     ]
    }
   ],
   "source": [
    "print(image_sizes[-1])\n",
    "print(np.sqrt(N))"
   ]
  },
  {
   "cell_type": "code",
   "execution_count": 42,
   "id": "respiratory-potential",
   "metadata": {},
   "outputs": [],
   "source": [
    "def inverses(f):\n",
    "    n = len(f)\n",
    "    result = {}\n",
    "    for i in range(n):\n",
    "        result[i] = []\n",
    "        for j in range(n):\n",
    "            if f[j] == i:\n",
    "                result[i].append(j)   \n",
    "    return result\n",
    "\n",
    "def ancestor_tree(finv, y):\n",
    "    return ancestor_tree_helper(finv, y, [])\n",
    "\n",
    "def ancestor_tree_helper(finv, y, seen):\n",
    "    if y in seen:\n",
    "        return y\n",
    "    seen.append(y)\n",
    "    if len(finv[y]) == 0:\n",
    "        return y\n",
    "    else:\n",
    "        return [y, [ancestor_tree_helper(finv, x, seen) for x in finv[y]]]"
   ]
  },
  {
   "cell_type": "code",
   "execution_count": 13,
   "id": "labeled-vector",
   "metadata": {},
   "outputs": [
    {
     "ename": "KeyboardInterrupt",
     "evalue": "",
     "output_type": "error",
     "traceback": [
      "\u001b[0;31m---------------------------------------------------------------------------\u001b[0m",
      "\u001b[0;31mKeyboardInterrupt\u001b[0m                         Traceback (most recent call last)",
      "\u001b[0;32m<ipython-input-13-22390da92e26>\u001b[0m in \u001b[0;36m<module>\u001b[0;34m\u001b[0m\n\u001b[0;32m----> 1\u001b[0;31m \u001b[0mfinv\u001b[0m \u001b[0;34m=\u001b[0m \u001b[0minverses\u001b[0m\u001b[0;34m(\u001b[0m\u001b[0mf\u001b[0m\u001b[0;34m)\u001b[0m\u001b[0;34m\u001b[0m\u001b[0;34m\u001b[0m\u001b[0m\n\u001b[0m\u001b[1;32m      2\u001b[0m \u001b[0mtrees\u001b[0m \u001b[0;34m=\u001b[0m \u001b[0;34m[\u001b[0m\u001b[0mancestor_tree\u001b[0m\u001b[0;34m(\u001b[0m\u001b[0mfinv\u001b[0m\u001b[0;34m,\u001b[0m \u001b[0mi\u001b[0m\u001b[0;34m)\u001b[0m \u001b[0;32mfor\u001b[0m \u001b[0mi\u001b[0m \u001b[0;32min\u001b[0m \u001b[0mrange\u001b[0m\u001b[0;34m(\u001b[0m\u001b[0mN\u001b[0m\u001b[0;34m)\u001b[0m\u001b[0;34m]\u001b[0m\u001b[0;34m\u001b[0m\u001b[0;34m\u001b[0m\u001b[0m\n",
      "\u001b[0;32m<ipython-input-12-6940de053259>\u001b[0m in \u001b[0;36minverses\u001b[0;34m(f)\u001b[0m\n\u001b[1;32m      5\u001b[0m         \u001b[0mresult\u001b[0m\u001b[0;34m[\u001b[0m\u001b[0mi\u001b[0m\u001b[0;34m]\u001b[0m \u001b[0;34m=\u001b[0m \u001b[0;34m[\u001b[0m\u001b[0;34m]\u001b[0m\u001b[0;34m\u001b[0m\u001b[0;34m\u001b[0m\u001b[0m\n\u001b[1;32m      6\u001b[0m         \u001b[0;32mfor\u001b[0m \u001b[0mj\u001b[0m \u001b[0;32min\u001b[0m \u001b[0mrange\u001b[0m\u001b[0;34m(\u001b[0m\u001b[0mn\u001b[0m\u001b[0;34m)\u001b[0m\u001b[0;34m:\u001b[0m\u001b[0;34m\u001b[0m\u001b[0;34m\u001b[0m\u001b[0m\n\u001b[0;32m----> 7\u001b[0;31m             \u001b[0;32mif\u001b[0m \u001b[0mf\u001b[0m\u001b[0;34m[\u001b[0m\u001b[0mj\u001b[0m\u001b[0;34m]\u001b[0m \u001b[0;34m==\u001b[0m \u001b[0mi\u001b[0m\u001b[0;34m:\u001b[0m\u001b[0;34m\u001b[0m\u001b[0;34m\u001b[0m\u001b[0m\n\u001b[0m\u001b[1;32m      8\u001b[0m                 \u001b[0mresult\u001b[0m\u001b[0;34m[\u001b[0m\u001b[0mi\u001b[0m\u001b[0;34m]\u001b[0m\u001b[0;34m.\u001b[0m\u001b[0mappend\u001b[0m\u001b[0;34m(\u001b[0m\u001b[0mj\u001b[0m\u001b[0;34m)\u001b[0m\u001b[0;34m\u001b[0m\u001b[0;34m\u001b[0m\u001b[0m\n\u001b[1;32m      9\u001b[0m     \u001b[0;32mreturn\u001b[0m \u001b[0mresult\u001b[0m\u001b[0;34m\u001b[0m\u001b[0;34m\u001b[0m\u001b[0m\n",
      "\u001b[0;31mKeyboardInterrupt\u001b[0m: "
     ]
    }
   ],
   "source": [
    "finv = inverses(f)\n",
    "trees = [ancestor_tree(finv, i) for i in range(N)]"
   ]
  },
  {
   "cell_type": "code",
   "execution_count": null,
   "id": "specialized-crowd",
   "metadata": {},
   "outputs": [],
   "source": [
    "trees"
   ]
  },
  {
   "cell_type": "code",
   "execution_count": null,
   "id": "through-copying",
   "metadata": {},
   "outputs": [],
   "source": [
    "def construct_tree(tree):\n",
    "    return construct_tree_helper(tree, nx.DiGraph())\n",
    "\n",
    "def construct_tree_helper(tree, G):\n",
    "    if type(tree) == int:\n",
    "        G.add_node(tree)\n",
    "    else:\n",
    "        assert len(tree) == 2\n",
    "        current = tree[0]\n",
    "        G.add_node(current)\n",
    "        for ancestor in tree[1]:\n",
    "            construct_tree_helper(ancestor, G)  \n",
    "            if type(ancestor) == int:\n",
    "                G.add_edge(current, ancestor)\n",
    "            else:\n",
    "                G.add_edge(current, ancestor[0])\n",
    "    return G"
   ]
  },
  {
   "cell_type": "code",
   "execution_count": null,
   "id": "incorrect-click",
   "metadata": {},
   "outputs": [],
   "source": [
    "tree_graphs = [construct_tree(tree) for tree in trees]"
   ]
  },
  {
   "cell_type": "code",
   "execution_count": null,
   "id": "controlling-collector",
   "metadata": {},
   "outputs": [],
   "source": [
    "nx.draw(tree_graphs[4])"
   ]
  },
  {
   "cell_type": "code",
   "execution_count": null,
   "id": "coated-buffer",
   "metadata": {},
   "outputs": [],
   "source": [
    "largest_tree_index = np.argmax([len(str(tree)) for tree in trees])"
   ]
  },
  {
   "cell_type": "code",
   "execution_count": null,
   "id": "official-karen",
   "metadata": {},
   "outputs": [],
   "source": [
    "nx.draw(tree_graphs[largest_tree_index])"
   ]
  },
  {
   "cell_type": "code",
   "execution_count": null,
   "id": "confused-transcript",
   "metadata": {},
   "outputs": [],
   "source": [
    "iterate_100 = current_f\n",
    "inverse_iterate_100 = inverses(iterate_100)"
   ]
  },
  {
   "cell_type": "code",
   "execution_count": null,
   "id": "considered-lindsay",
   "metadata": {},
   "outputs": [],
   "source": [
    "G = nx.DiGraph()\n",
    "# nodes = [j for j in range(N) if len(inverse_iterate_100[j]) > 0]\n",
    "nodes = [j for j in range(N)]\n",
    "G.add_nodes_from(nodes)\n",
    "G.add_edges_from([(i, iterate_100[i]) for i in nodes])"
   ]
  },
  {
   "cell_type": "code",
   "execution_count": null,
   "id": "recreational-florist",
   "metadata": {},
   "outputs": [],
   "source": [
    "nx.draw_spring(G, node_size=2)"
   ]
  },
  {
   "cell_type": "code",
   "execution_count": 14,
   "id": "theoretical-decrease",
   "metadata": {},
   "outputs": [],
   "source": [
    "# current number remaining = x\n",
    "# next step not in range: n * (1 - (1 - 1/n)^{x}) = n * e^-{x / n}\n",
    "# next step in range: x - n * e^-{x/n}\n",
    "\n",
    "\n",
    "# next step: x * (1 - (1 - 1 / n)^{x n}) = x * (1 - e^-x)\n",
    "\n",
    "\n",
    "# (1 - 1 / 1000)^1000 = 1/e\n",
    "# (1 - 1 / 1000)^((1 - 1/e)*1000) = e^{-(1 - 1/e)}"
   ]
  },
  {
   "cell_type": "code",
   "execution_count": 57,
   "id": "norwegian-species",
   "metadata": {},
   "outputs": [],
   "source": [
    "# x_i is fraction of range remaining at step i = 1\n",
    "def iterate(fraction_of_range):\n",
    "    return 1 - np.power(np.e, -fraction_of_range)"
   ]
  },
  {
   "cell_type": "code",
   "execution_count": 58,
   "id": "mobile-matter",
   "metadata": {},
   "outputs": [],
   "source": [
    "current_fraction_of_range = 1\n",
    "iterates = []\n",
    "for i in range(1000):\n",
    "    iterates.append(current_fraction_of_range)\n",
    "    current_fraction_of_range = iterate(current_fraction_of_range)"
   ]
  },
  {
   "cell_type": "code",
   "execution_count": 69,
   "id": "vietnamese-token",
   "metadata": {},
   "outputs": [
    {
     "data": {
      "text/plain": [
       "[<matplotlib.lines.Line2D at 0x7ff1b2a2d9b0>]"
      ]
     },
     "execution_count": 69,
     "metadata": {},
     "output_type": "execute_result"
    },
    {
     "data": {
      "image/png": "[encoded data removed]",
      "text/plain": [
       "<Figure size 432x288 with 1 Axes>"
      ]
     },
     "metadata": {
      "needs_background": "light"
     },
     "output_type": "display_data"
    }
   ],
   "source": [
    "plt.xscale(\"log\")\n",
    "plt.plot(np.asarray(range(len(iterates))) + 1, iterates)\n",
    "# let's compare with experiment!\n",
    "experimental_range_fractions = np.asarray(image_sizes)/image_sizes[0]\n",
    "plt.plot(np.asarray(range(len(iterates))) + 1, experimental_range_fractions)"
   ]
  },
  {
   "cell_type": "code",
   "execution_count": 70,
   "id": "cardiovascular-residence",
   "metadata": {},
   "outputs": [
    {
     "data": {
      "text/plain": [
       "[<matplotlib.lines.Line2D at 0x7ff1b337bbe0>]"
      ]
     },
     "execution_count": 70,
     "metadata": {},
     "output_type": "execute_result"
    },
    {
     "data": {
      "image/png": "[encoded data removed]",
      "text/plain": [
       "<Figure size 432x288 with 1 Axes>"
      ]
     },
     "metadata": {
      "needs_background": "light"
     },
     "output_type": "display_data"
    }
   ],
   "source": [
    "plt.xscale(\"log\")\n",
    "plt.yscale(\"log\")\n",
    "plt.plot(np.asarray(iterates)/np.asarray(experimental_range_fractions))"
   ]
  },
  {
   "cell_type": "code",
   "execution_count": 77,
   "id": "completed-trout",
   "metadata": {},
   "outputs": [
    {
     "data": {
      "text/plain": [
       "198"
      ]
     },
     "execution_count": 77,
     "metadata": {},
     "output_type": "execute_result"
    }
   ],
   "source": [
    "np.argmax(np.diff(np.asarray(experimental_range_fractions)) == 0)"
   ]
  },
  {
   "cell_type": "code",
   "execution_count": null,
   "id": "statistical-characteristic",
   "metadata": {},
   "outputs": [],
   "source": [
    "np.power((1 - 1 / 1000), 632)"
   ]
  }
 ],
 "metadata": {
  "kernelspec": {
   "display_name": "Python 3",
   "language": "python",
   "name": "python3"
  },
  "language_info": {
   "codemirror_mode": {
    "name": "ipython",
    "version": 3
   },
   "file_extension": ".py",
   "mimetype": "text/x-python",
   "name": "python",
   "nbconvert_exporter": "python",
   "pygments_lexer": "ipython3",
   "version": "3.7.1"
  }
 },
 "nbformat": 4,
 "nbformat_minor": 5
}
